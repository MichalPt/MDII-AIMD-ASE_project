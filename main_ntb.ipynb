{
 "cells": [
  {
   "cell_type": "code",
   "execution_count": 1,
   "id": "b5909ae8-0669-4135-8cb8-07aab9b84712",
   "metadata": {},
   "outputs": [],
   "source": [
    "import os, re, json, shutil, time\n",
    "import numpy as np\n",
    "from ase.io import read, write, iread\n",
    "from ase.io.trajectory import Trajectory\n",
    "from ase.visualize import view, external\n",
    "from ase import units\n",
    "from ase.md.velocitydistribution import MaxwellBoltzmannDistribution\n",
    "from ase.geometry.analysis import Analysis\n",
    "\n",
    "from ase.md.verlet import VelocityVerlet\n",
    "from ase.md.langevin import Langevin\n",
    "\n",
    "from ase.calculators.cp2k import CP2K\n",
    "from ase.calculators.orca import ORCA\n",
    "from ase.calculators.psi4 import Psi4\n",
    "\n",
    "from IPython.utils.io import capture_output\n",
    "from pathlib import Path\n",
    "import matplotlib.pyplot as plt\n",
    "from scipy.stats import norm\n",
    "from tqdm import tqdm"
   ]
  },
  {
   "cell_type": "markdown",
   "id": "bf164ae1-cd81-4036-95dd-ebbecb029d73",
   "metadata": {},
   "source": [
    "### Function definitions"
   ]
  },
  {
   "cell_type": "code",
   "execution_count": 2,
   "id": "b584dfb4-0384-40c0-9e34-63980439aaf4",
   "metadata": {},
   "outputs": [],
   "source": [
    "def center_COM(atoms):\n",
    "    \"\"\"Center the COM of `atoms` in their own cell.\"\"\"\n",
    "\n",
    "    # position of box center\n",
    "    c = 0.5 * atoms.get_cell().sum(axis=0) + atoms.get_celldisp().T\n",
    "\n",
    "    # center of mass shifted to box center\n",
    "    positions = atoms.get_positions() - atoms.get_center_of_mass() + c\n",
    "\n",
    "    # update positions in place\n",
    "    atoms.set_positions(positions)\n",
    "\n",
    "\n",
    "def new_sim_dir(path=\"\", prefix=\"simulation\"):\n",
    "    '''\n",
    "    Looks for all non-empty enumerated directories of desired format and returns new dirname with id one greater.\n",
    "    '''\n",
    "    reg_dir_num = re.compile(\"_[0-9]{3}_\")\n",
    "    id_list = [int(re.findall(reg_dir_num, f.path)[0].replace('_','')) for f in os.scandir() \n",
    "               if f.is_dir() and \"/simulation_\" in f.path and len(os.listdir(f)) > 0]\n",
    "    current = max([0] + id_list)\n",
    "    \n",
    "    new_dirname = \"{}_{:03d}_\".format(prefix, current + 1)\n",
    "    print(new_dirname)\n",
    "    \n",
    "    return new_dirname    \n",
    "\n",
    "\n",
    "def save_parameters(pars, filename=\"parameters.json\"):\n",
    "    par_rev = pars.copy()\n",
    "    par_rev['atoms'] = par_rev['atoms'].get_chemical_symbols()\n",
    "    \n",
    "    with open(par_rev['output_dir'] + filename, 'w') as jsfile:\n",
    "        json.dump(par_rev, jsfile, indent=4)\n",
    "\n",
    "\n",
    "def load_energies(path):\n",
    "    reg_num = re.compile(\"[-0-9.]+\")\n",
    "\n",
    "    times = list()\n",
    "    E_tot = list()\n",
    "    E_pot = list()\n",
    "    E_kin = list()\n",
    "\n",
    "    with open(path, 'r') as file:\n",
    "        print(\"Header: {}\".format(next(file)))        # dumps the header\n",
    "        for line in file:\n",
    "            num_data = re.findall(reg_num, line.replace(\"\\n\",\"\"))\n",
    "            for i, lst in enumerate([times, E_tot, E_pot, E_kin]):\n",
    "                lst.append(float(num_data[i]))\n",
    "                \n",
    "    return times, E_tot, E_pot, E_kin\n",
    "\n",
    "\n",
    "class MyTimer:\n",
    "    def __init__(self, output_path):\n",
    "        self.path = output_path\n",
    "        self.data = list()\n",
    "        self.stack = dict()\n",
    "        \n",
    "    def start(self,label):\n",
    "        t0 = time.time()\n",
    "        self.stack.update({label:t0})\n",
    "        \n",
    "    def stop(self,label,save_data=False):\n",
    "        dt = time.time() - self.stack.pop(label)\n",
    "        self.data.append([label, dt])\n",
    "        \n",
    "        if save_data is True:\n",
    "            self.save_data()\n",
    "            \n",
    "    def stop_start(self, label='step'):\n",
    "        dt = time.time() - self.stack.pop(label) if label in self.stack.keys() else 0\n",
    "        self.data.append([label, dt]) if dt != 0 else None\n",
    "        \n",
    "        t1 = time.time()\n",
    "        self.stack.update({label:t1})\n",
    "    \n",
    "        \n",
    "    def save_data(self):\n",
    "        with open(self.path, 'w') as file:\n",
    "            file.write(\"Date and time of the simulation run:   {} \\n\".format(time.strftime(\"%A, %d %b %Y %H:%M:%S\", time.gmtime()) ))\n",
    "            file.write(\" LABEL   TIME [s] \\n\")\n",
    "            \n",
    "            for line in self.data:\n",
    "                file.write(\" {}   {:.3f} s \\n\".format(line[0], float(line[1])))\n",
    "                \n",
    "                \n",
    "def transform_frames(path, n_sim, ox_id=[0,3], H_id=4):\n",
    "    def center_atom_pair(frame, pos1, pos2, center):\n",
    "        d_center = center - (pos1 + (pos2 - pos1)/2)\n",
    "        frame.translate(d_center)\n",
    "        \n",
    "    for i in range(n_sim):\n",
    "        new_traj = Trajectory(path + 'coords_transformed_{:03d}.traj'.format(i), 'w')\n",
    "\n",
    "        times, E_tot, E_pot, E_kin = load_energies(path + 'energies_{:03d}.log'.format(i))\n",
    "\n",
    "        ird = iread(path + \"coords_{:03d}.traj\".format(i), index=':')\n",
    "\n",
    "        for frame in ird:\n",
    "            cell_center = frame.get_cell().sum(axis=0) / 2\n",
    "            pos1, pos2 = frame.get_positions()[ox_id]\n",
    "\n",
    "            center_atom_pair(frame, pos1, pos2, cell_center)\n",
    "            frame.rotate(pos2 - pos1, [1,0,0], center=cell_center )   # orient oxygen pair in x-axis direction\n",
    "\n",
    "            shared_H_pos = frame.get_positions()[H_id]\n",
    "            frame.rotate((shared_H_pos - cell_center)*np.array([0,1,1]), [0,0,1], center=cell_center)   # restrict shared H movement to x-z  plane only  \n",
    "\n",
    "            new_traj.write(frame)\n",
    "\n",
    "        write(path + \"coords_transformed_{:03d}.xyz\".format(i), read(path + \"coords_transformed_{:03d}.traj\".format(i), index=':'), format=\"xyz\")\n"
   ]
  },
  {
   "cell_type": "markdown",
   "id": "163afe4a-9bfb-4feb-bc8e-86e944fd022b",
   "metadata": {},
   "source": [
    "# **Simulation**"
   ]
  },
  {
   "cell_type": "markdown",
   "id": "788caa4e-80eb-46e8-bbcd-703735953665",
   "metadata": {},
   "source": [
    "## **Define initial structure**"
   ]
  },
  {
   "cell_type": "code",
   "execution_count": 3,
   "id": "5bc21a38-e18c-44f3-a330-d0b9ca507f9c",
   "metadata": {},
   "outputs": [],
   "source": [
    "zundel = read(\"./input_files/initial.pdb\",format='proteindatabank')"
   ]
  },
  {
   "cell_type": "code",
   "execution_count": 4,
   "id": "61fff034-c479-4c0e-be1f-3e6940c0f6cc",
   "metadata": {},
   "outputs": [
    {
     "name": "stdout",
     "output_type": "stream",
     "text": [
      "[[5.84488069 6.76080447 6.90022558]\n",
      " [5.67888069 7.70080447 6.75722558]\n",
      " [5.85988069 6.56480447 7.84522558]\n",
      " [6.15188069 5.26080447 5.07122558]\n",
      " [6.01188069 5.93680447 5.96622558]\n",
      " [7.02988069 4.86680447 4.95822558]\n",
      " [5.47088069 4.58780447 4.92622558]]\n",
      "[6. 6. 6.]\n"
     ]
    }
   ],
   "source": [
    "L = 12.0 * np.ones(3)\n",
    "zundel.set_cell(L)\n",
    "center_COM(zundel)\n",
    "\n",
    "print(zundel.get_positions())\n",
    "print(zundel.get_center_of_mass())"
   ]
  },
  {
   "cell_type": "code",
   "execution_count": 5,
   "id": "60fa206f-2cf8-420d-ac4c-3be83e272735",
   "metadata": {
    "tags": []
   },
   "outputs": [],
   "source": [
    "#view(zundel, viewer='vmd')"
   ]
  },
  {
   "cell_type": "markdown",
   "id": "9809a65f-c990-4467-8860-449fb08d7859",
   "metadata": {},
   "source": [
    "## **Calculator setup**"
   ]
  },
  {
   "cell_type": "markdown",
   "id": "1d7458e0-2b13-4144-bd2d-81076141403c",
   "metadata": {},
   "source": [
    "### Setup CP2K"
   ]
  },
  {
   "cell_type": "code",
   "execution_count": 6,
   "id": "084e3633-7696-466f-a967-2fe4922d8ba6",
   "metadata": {},
   "outputs": [],
   "source": [
    "os.environ['CP2K_DATA_DIR'] = \"/home/mptacek/md_project\"\n",
    "CP2K.command = '/home/mptacek/software/cp2k_shell.ssmp --shell' "
   ]
  },
  {
   "cell_type": "code",
   "execution_count": 7,
   "id": "52b76018-e9c6-4b68-a604-8433a367c31a",
   "metadata": {},
   "outputs": [],
   "source": [
    "# load CP2K input file\n",
    "with open(\"./input_files/zundel_cp2k.inp\") as f_inp:\n",
    "    inp_cp2k = f_inp.read()"
   ]
  },
  {
   "cell_type": "code",
   "execution_count": 8,
   "id": "eb3c83e8-b96e-48ff-ae70-c544268f1bbc",
   "metadata": {},
   "outputs": [],
   "source": [
    "calculator = CP2K(\n",
    "    inp=inp_cp2k,\n",
    "    directory='calculator',\n",
    "    stress_tensor=False,\n",
    "    cutoff=None,\n",
    "    basis_set_file=None,\n",
    "    potential_file=None,\n",
    "    poisson_solver=None,\n",
    "    max_scf=None,\n",
    "    xc=None,\n",
    "    basis_set=None,\n",
    "    pseudo_potential=None,\n",
    ")\n",
    "pp = 'CP2K'"
   ]
  },
  {
   "cell_type": "markdown",
   "id": "c9e900bc-cf85-4658-91d0-6dc78233af21",
   "metadata": {},
   "source": [
    "### Setup ORCA"
   ]
  },
  {
   "cell_type": "code",
   "execution_count": 6,
   "id": "1d41a78b-0137-432e-8844-2cb66a9e1ac3",
   "metadata": {},
   "outputs": [],
   "source": [
    "ORCA.command = '/home/mptacek/software/orca_5_0_2_linux_x86-64_openmpi411/orca PREFIX.inp > PREFIX.out'\n",
    "\n",
    "orca_pars = dict(label='orcacalc',\n",
    "                 charge=1,\n",
    "                 mult=1,\n",
    "                 #orcasimpleinput='HF cc-PVTZ',\n",
    "                 orcasimpleinput='B3LYP cc-PVTZ',\n",
    "                 orcablocks='%maxcore 2000 %pal nprocs 4 end',\n",
    "                )\n",
    "\n",
    "pp = orca_pars\n",
    "\n",
    "calculator = ORCA(label=pp['label'], charge=pp['charge'], mult=pp['mult'], orcasimpleinput=pp['orcasimpleinput'],\n",
    "                  orcablocks=pp['orcablocks'],\n",
    "                 )"
   ]
  },
  {
   "cell_type": "markdown",
   "id": "e5344b1f-49d3-4c5d-93e2-44e91721be8a",
   "metadata": {},
   "source": [
    "### Setup Psi4"
   ]
  },
  {
   "cell_type": "code",
   "execution_count": 6,
   "id": "daf5e544-f26e-4042-9671-d07930f14b8c",
   "metadata": {},
   "outputs": [
    {
     "name": "stdout",
     "output_type": "stream",
     "text": [
      "\n",
      "  Memory set to   5.588 GiB by Python driver.\n",
      "  Threads set to 4 by Python driver.\n"
     ]
    }
   ],
   "source": [
    "psi4_pars = dict(method='b3lyp',\n",
    "                 #method='hf',\n",
    "                 #method='m06',\n",
    "                 #basis='6-311g_d_p_',\n",
    "                 #basis='aug-cc-pVTZ',\n",
    "                 basis='def2-TZVP',\n",
    "                 charge=1,\n",
    "                 multiplicity=1,\n",
    "                 memory='6GB',\n",
    "                 num_threads=4,\n",
    "                 label='psi4-calc',\n",
    "                )\n",
    "\n",
    "pp = psi4_pars\n",
    "calculator = Psi4(atoms=zundel, method=pp['method'], basis=pp['basis'], charge=pp['charge'],\n",
    "                  multiplicity=pp['multiplicity'], memory=pp['memory'], num_threads=pp['num_threads'],\n",
    "                  label=pp['label'],\n",
    "                 )"
   ]
  },
  {
   "cell_type": "markdown",
   "id": "234ee0cb-757c-4caf-98df-c9cc5eada3d7",
   "metadata": {},
   "source": [
    "## **Simulation setup** - single"
   ]
  },
  {
   "cell_type": "markdown",
   "id": "370d1c3b-8d7e-4a7b-8f42-eaadeb8af90d",
   "metadata": {},
   "source": [
    "### Spawn new zundel"
   ]
  },
  {
   "cell_type": "code",
   "execution_count": 9,
   "id": "458ca00c-751b-42db-86c1-ca259addf3e1",
   "metadata": {},
   "outputs": [
    {
     "name": "stdout",
     "output_type": "stream",
     "text": [
      "simulation_029_\n"
     ]
    }
   ],
   "source": [
    "zun = zundel.copy()\n",
    "\n",
    "new_output_dir = new_sim_dir()"
   ]
  },
  {
   "cell_type": "code",
   "execution_count": 10,
   "id": "c24114b5-1409-409c-8383-c495dbf72248",
   "metadata": {},
   "outputs": [
    {
     "data": {
      "text/plain": [
       "Atoms(symbols='OH2OH3', pbc=False, cell=[12.0, 12.0, 12.0], atomtypes=..., bfactor=..., occupancy=..., residuenames=..., residuenumbers=...)"
      ]
     },
     "execution_count": 10,
     "metadata": {},
     "output_type": "execute_result"
    }
   ],
   "source": [
    "zun.set_pbc(False)\n",
    "zun"
   ]
  },
  {
   "cell_type": "code",
   "execution_count": 11,
   "id": "033d8c82-a887-4f59-9b1a-5a9ca4fdf481",
   "metadata": {},
   "outputs": [],
   "source": [
    "parameters = dict(atoms=zun,             # atoms\n",
    "                  timestep=1*units.fs,   # timestep\n",
    "                  temperature=300,       # temp in K \n",
    "                  sim_length=5000*units.fs,\n",
    "                  friction=0.002,\n",
    "                  logfile='energies.log', #'-',\n",
    "                  trajectory=None,\n",
    "                  fixcm=True,\n",
    "                  loginterval=1,\n",
    "                  output_dir='./{}{}/'.format(new_output_dir, 'xxx'),\n",
    "                  nvt=True,\n",
    "                  calc_pars=pp,\n",
    "                 )\n",
    "\n",
    "p = parameters"
   ]
  },
  {
   "cell_type": "markdown",
   "id": "8dcd54c3-d03f-427d-884a-5b7f6838b890",
   "metadata": {},
   "source": [
    "### Set calculator + SP energy"
   ]
  },
  {
   "cell_type": "code",
   "execution_count": 12,
   "id": "d8b0e845-f9e7-4218-9018-f0b933203e7b",
   "metadata": {},
   "outputs": [
    {
     "name": "stdout",
     "output_type": "stream",
     "text": [
      "Output directory is set to: ./simulation_015_cp2k/ \n",
      "\n",
      "E_pot = -224.4287\n"
     ]
    }
   ],
   "source": [
    "# set calculator\n",
    "p['atoms'].set_calculator(calculator)\n",
    "\n",
    "# set and create output directory\n",
    "calc_name = p['atoms'].get_calculator().name\n",
    "p['output_dir'] = './{}{}/'.format(new_output_dir, calc_name)\n",
    "print(\"Output directory is set to: {} \\n\".format(p['output_dir']))\n",
    "Path(p['output_dir']).mkdir(parents=False, exist_ok=True)\n",
    "\n",
    "timer = MyTimer(p['output_dir'] + \"timings.txt\")\n",
    "\n",
    "# test - get total potential energy:\n",
    "print(\"E_pot = {:.4f}\".format(p['atoms'].get_potential_energy()))"
   ]
  },
  {
   "cell_type": "markdown",
   "id": "17bf955c-22ae-4f60-9eef-71ac8de880a1",
   "metadata": {},
   "source": [
    "### Thermostats"
   ]
  },
  {
   "cell_type": "code",
   "execution_count": 13,
   "id": "94b656a1-3d6b-49f4-8add-fdfc70e72f41",
   "metadata": {},
   "outputs": [],
   "source": [
    "if p['nvt'] is True:\n",
    "    moldyn = Langevin(p['atoms'],               # atoms\n",
    "                  timestep=p['timestep'],       # timestep\n",
    "                  temperature_K=p['temperature'],     # temp in K \n",
    "                  friction=p['friction'],\n",
    "                  logfile=p['output_dir'] + p['logfile'],\n",
    "                  trajectory=p['trajectory'],\n",
    "                  fixcm=p['fixcm'],\n",
    "                  loginterval=p['loginterval'],\n",
    "                 )\n",
    "elif p['nvt'] is False:\n",
    "    moldyn = VelocityVerlet(p['atoms'],                  # atoms\n",
    "                        timestep=p['timestep'],          # timestep\n",
    "                        logfile=p['output_dir'] + p['logfile'],\n",
    "                        trajectory=p['trajectory'],\n",
    "                        loginterval=p['loginterval'],\n",
    "                       )\n",
    "else:\n",
    "    ValueError()"
   ]
  },
  {
   "cell_type": "markdown",
   "id": "0f891749-7055-440e-afb5-df832ea95ac4",
   "metadata": {},
   "source": [
    "### Save parameter files"
   ]
  },
  {
   "cell_type": "code",
   "execution_count": 15,
   "id": "6a64c419-62e8-4a3d-a530-d28935dc167d",
   "metadata": {},
   "outputs": [],
   "source": [
    "MaxwellBoltzmannDistribution(p['atoms'], temperature_K=p['temperature'])"
   ]
  },
  {
   "cell_type": "code",
   "execution_count": 16,
   "id": "4f46b40e-9128-4fd4-970d-e37c3b12f284",
   "metadata": {},
   "outputs": [],
   "source": [
    "interval = p['loginterval']\n",
    "\n",
    "traj = Trajectory(p['output_dir'] + 'coords.traj', 'w', p['atoms'])\n",
    "\n",
    "# save parameter dictionary as JSON\n",
    "save_parameters(p)\n",
    "\n",
    "if calc_name == 'cp2k':\n",
    "    shutil.copy(\"./input_files/zundel_cp2k.inp\",\"./\"+p['output_dir']+\"/zundel_cp2k.inp\")"
   ]
  },
  {
   "cell_type": "markdown",
   "id": "9ac671fd-c18d-43bb-af7e-b88744006d04",
   "metadata": {},
   "source": [
    "### **Initialize and run the simulation**"
   ]
  },
  {
   "cell_type": "code",
   "execution_count": 17,
   "id": "c1d9dd7c-6b70-46c5-b408-4e819d3f6e8f",
   "metadata": {},
   "outputs": [],
   "source": [
    "moldyn.attach(traj.write, interval=interval)\n",
    "moldyn.attach(timer.stop_start, interval=interval)"
   ]
  },
  {
   "cell_type": "code",
   "execution_count": 18,
   "id": "faeba9c1-1810-49b3-aecd-33a327ad4b3f",
   "metadata": {},
   "outputs": [
    {
     "name": "stdout",
     "output_type": "stream",
     "text": [
      "Simulation timing:    1  x  4000 fs = 4000 fs\n"
     ]
    }
   ],
   "source": [
    "timestep = p['timestep']\n",
    "duration = p['sim_length']\n",
    "n_steps = round(duration / timestep)\n",
    "print(\"Simulation timing:    {}  x  {} fs = {} fs\".format(int(timestep / units.fs), int(n_steps), int(duration / units.fs)))"
   ]
  },
  {
   "cell_type": "code",
   "execution_count": 21,
   "id": "6c691381-b704-4051-baec-7bf7e9c7c44b",
   "metadata": {},
   "outputs": [],
   "source": [
    "with capture_output() as captured:\n",
    "    timer.start('simulation')\n",
    "    printenergy()\n",
    "    moldyn.run(n_steps)\n",
    "    write(p['output_dir']+\"coords.xyz\", read(p['output_dir'] + \"coords.traj\",index=':'), format=\"xyz\")\n",
    "    timer.stop('simulation', save_data=True)"
   ]
  },
  {
   "cell_type": "code",
   "execution_count": 33,
   "id": "7f52d63a-bd70-444f-9973-f6de32548552",
   "metadata": {},
   "outputs": [],
   "source": [
    "#write(\"coords.xyz\", read(\"coords.traj\",index=':'), format=\"xyz\")"
   ]
  },
  {
   "cell_type": "markdown",
   "id": "c2d111c8-e307-4284-9e7d-879489535ce5",
   "metadata": {},
   "source": [
    "## **Simulation setup and run** - multi copy"
   ]
  },
  {
   "cell_type": "code",
   "execution_count": 9,
   "id": "93673150-bc26-45b3-83d6-ab8a4897a8c2",
   "metadata": {},
   "outputs": [
    {
     "name": "stdout",
     "output_type": "stream",
     "text": [
      "simulation_049_\n"
     ]
    }
   ],
   "source": [
    "zun = zundel.copy()\n",
    "\n",
    "new_output_dir = new_sim_dir()"
   ]
  },
  {
   "cell_type": "code",
   "execution_count": 10,
   "id": "fd0184f2-00a6-4654-b4be-93f3a49b67e2",
   "metadata": {},
   "outputs": [],
   "source": [
    "parameters = dict(atoms=zun,             # atoms\n",
    "                  timestep=0.5 *units.fs,  # timestep\n",
    "                  temperature=77,       # temp in K \n",
    "                  sim_length=5000 *units.fs,\n",
    "                  friction=0.002,\n",
    "                  logfile='energies.log', #'-',\n",
    "                  trajectory=None,\n",
    "                  fixcm=True,\n",
    "                  loginterval=2,\n",
    "                  output_dir='./{}{}/'.format(new_output_dir, 'xxx'),\n",
    "                  nvt=True,\n",
    "                  repeat=1,\n",
    "                  calc_pars=pp,\n",
    "                 )\n",
    "p = parameters"
   ]
  },
  {
   "cell_type": "code",
   "execution_count": 11,
   "id": "225a19a6-a561-41a0-a92e-ac20abdcacd7",
   "metadata": {},
   "outputs": [
    {
     "name": "stdout",
     "output_type": "stream",
     "text": [
      "Calculator name: cp2k\n",
      "Output directory is set to: ./simulation_049_cp2k/ \n",
      "\n",
      "Simulation timing:    10000  x  0 fs = 5000 fs\n"
     ]
    }
   ],
   "source": [
    "# set and create output directory\n",
    "calc_name = calculator.name\n",
    "print(\"Calculator name: \"+calc_name)\n",
    "\n",
    "p['output_dir'] = './{}{}/'.format(new_output_dir, calc_name)\n",
    "print(\"Output directory is set to: {} \\n\".format(p['output_dir']))\n",
    "Path(p['output_dir']).mkdir(parents=False, exist_ok=True)\n",
    "\n",
    "if calc_name == 'cp2k':\n",
    "    shutil.copy(\"./input_files/zundel_cp2k.inp\",\"./\"+p['output_dir']+\"/zundel_cp2k.inp\")\n",
    "\n",
    "timer = MyTimer(p['output_dir'] + \"timings.txt\")\n",
    "    \n",
    "# save parameter dictionary as JSON\n",
    "save_parameters(p)\n",
    "\n",
    "interval = p['loginterval']\n",
    "timestep = p['timestep']\n",
    "duration = p['sim_length']\n",
    "n_steps = round(duration / timestep)\n",
    "print(\"Simulation timing:    {}  x  {} fs = {} fs\".format(int(n_steps), int(timestep / units.fs), int(duration / units.fs)))"
   ]
  },
  {
   "cell_type": "code",
   "execution_count": 12,
   "id": "b361db33-c2ae-496d-94d0-f03ee97d48a8",
   "metadata": {},
   "outputs": [
    {
     "name": "stderr",
     "output_type": "stream",
     "text": [
      "100%|███████████████████████████████████████████████████████████████████████████████████████| 1/1 [04:43<00:00, 283.34s/it]\n"
     ]
    },
    {
     "name": "stdout",
     "output_type": "stream",
     "text": [
      "Header: Time[ps]      Etot[eV]     Epot[eV]     Ekin[eV]    T[K]\n",
      "\n"
     ]
    }
   ],
   "source": [
    "timer.start('simulation')\n",
    "for i_sim in tqdm(range(p['repeat'])):\n",
    "    timer.start('iter_{}'.format(i_sim))\n",
    "    zuni = zundel.copy()\n",
    "    \n",
    "    # set calculator\n",
    "    zuni.set_calculator(calculator)\n",
    "    \n",
    "    p['atoms'] = zuni\n",
    "    \n",
    "    if p['nvt'] is True:\n",
    "        moldyni = Langevin(zuni, timestep=p['timestep'], temperature_K=p['temperature'], friction=p['friction'], \n",
    "                          logfile=p['output_dir'] + p['logfile'].replace(\".log\",\"_{:03d}.log\".format(i_sim)), \n",
    "                          trajectory=p['trajectory'], fixcm=p['fixcm'], loginterval=p['loginterval'],\n",
    "                         )\n",
    "    elif p['nvt'] is False:\n",
    "        moldyni = VelocityVerlet(zuni, timestep=p['timestep'], trajectory=p['trajectory'], loginterval=p['loginterval'],\n",
    "                                logfile=p['output_dir'] + p['logfile'].replace(\".log\",\"_{:03d}.log\".format(i_sim)),\n",
    "                               )\n",
    "    else:\n",
    "        ValueError()\n",
    "\n",
    "    traj = Trajectory(p['output_dir'] + 'coords.traj'.replace(\".traj\",\"_{:03d}.traj\".format(i_sim)), 'w', zuni)\n",
    "\n",
    "    MaxwellBoltzmannDistribution(zuni, temperature_K=p['temperature'])\n",
    "    \n",
    "    moldyni.attach(traj.write, interval=interval)\n",
    "    moldyni.attach(timer.stop_start, interval=interval)\n",
    "\n",
    "    with capture_output() as captured:\n",
    "        moldyni.run(n_steps)\n",
    "        write(p['output_dir']+\"coords.xyz\".replace(\".xyz\",\"_{:03d}.xyz\".format(i_sim)), \n",
    "              read(p['output_dir'] + \"coords.traj\".replace(\".traj\",\"_{:03d}.traj\".format(i_sim)),index=':'), format=\"xyz\")\n",
    "        \n",
    "    timer.stop('iter_{}'.format(i_sim))\n",
    "        \n",
    "timer.stop('simulation', save_data=True)\n",
    "transform_frames(p['output_dir'], p['repeat'])"
   ]
  },
  {
   "cell_type": "code",
   "execution_count": 11,
   "id": "e1b67c28-0756-45e2-b8a7-6c0d75356be8",
   "metadata": {},
   "outputs": [],
   "source": [
    "## save times in case of error in above cell !!! \n",
    "#timer.stop('simulation', save_data=True)"
   ]
  },
  {
   "cell_type": "code",
   "execution_count": null,
   "id": "867dec9a-7e53-4f25-9d1a-b9a8b82191ce",
   "metadata": {},
   "outputs": [],
   "source": []
  }
 ],
 "metadata": {
  "kernelspec": {
   "display_name": "Python 3 (ipykernel)",
   "language": "python",
   "name": "python3"
  },
  "language_info": {
   "codemirror_mode": {
    "name": "ipython",
    "version": 3
   },
   "file_extension": ".py",
   "mimetype": "text/x-python",
   "name": "python",
   "nbconvert_exporter": "python",
   "pygments_lexer": "ipython3",
   "version": "3.9.12"
  },
  "toc-autonumbering": true
 },
 "nbformat": 4,
 "nbformat_minor": 5
}
